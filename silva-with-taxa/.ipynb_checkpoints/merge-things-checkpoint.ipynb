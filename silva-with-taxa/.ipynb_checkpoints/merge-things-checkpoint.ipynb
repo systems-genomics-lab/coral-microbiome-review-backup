{
 "cells": [
  {
   "cell_type": "code",
   "execution_count": 1,
   "id": "3898e415-d539-4d82-87ef-48d417e4059f",
   "metadata": {},
   "outputs": [
    {
     "name": "stderr",
     "output_type": "stream",
     "text": [
      "── \u001b[1mAttaching packages\u001b[22m ─────────────────────────────────────── tidyverse 1.3.2 ──\n",
      "\u001b[32m✔\u001b[39m \u001b[34mggplot2\u001b[39m 3.3.6     \u001b[32m✔\u001b[39m \u001b[34mpurrr  \u001b[39m 0.3.4\n",
      "\u001b[32m✔\u001b[39m \u001b[34mtibble \u001b[39m 3.1.8     \u001b[32m✔\u001b[39m \u001b[34mdplyr  \u001b[39m 1.0.9\n",
      "\u001b[32m✔\u001b[39m \u001b[34mtidyr  \u001b[39m 1.2.0     \u001b[32m✔\u001b[39m \u001b[34mstringr\u001b[39m 1.4.0\n",
      "\u001b[32m✔\u001b[39m \u001b[34mreadr  \u001b[39m 2.1.2     \u001b[32m✔\u001b[39m \u001b[34mforcats\u001b[39m 0.5.1\n",
      "── \u001b[1mConflicts\u001b[22m ────────────────────────────────────────── tidyverse_conflicts() ──\n",
      "\u001b[31m✖\u001b[39m \u001b[34mdplyr\u001b[39m::\u001b[32mfilter()\u001b[39m masks \u001b[34mstats\u001b[39m::filter()\n",
      "\u001b[31m✖\u001b[39m \u001b[34mdplyr\u001b[39m::\u001b[32mlag()\u001b[39m    masks \u001b[34mstats\u001b[39m::lag()\n",
      "\n",
      "Attaching package: ‘tidylog’\n",
      "\n",
      "\n",
      "The following objects are masked from ‘package:dplyr’:\n",
      "\n",
      "    add_count, add_tally, anti_join, count, distinct, distinct_all,\n",
      "    distinct_at, distinct_if, filter, filter_all, filter_at, filter_if,\n",
      "    full_join, group_by, group_by_all, group_by_at, group_by_if,\n",
      "    inner_join, left_join, mutate, mutate_all, mutate_at, mutate_if,\n",
      "    relocate, rename, rename_all, rename_at, rename_if, rename_with,\n",
      "    right_join, sample_frac, sample_n, select, select_all, select_at,\n",
      "    select_if, semi_join, slice, slice_head, slice_max, slice_min,\n",
      "    slice_sample, slice_tail, summarise, summarise_all, summarise_at,\n",
      "    summarise_if, summarize, summarize_all, summarize_at, summarize_if,\n",
      "    tally, top_frac, top_n, transmute, transmute_all, transmute_at,\n",
      "    transmute_if, ungroup\n",
      "\n",
      "\n",
      "The following objects are masked from ‘package:tidyr’:\n",
      "\n",
      "    drop_na, fill, gather, pivot_longer, pivot_wider, replace_na,\n",
      "    spread, uncount\n",
      "\n",
      "\n",
      "The following object is masked from ‘package:stats’:\n",
      "\n",
      "    filter\n",
      "\n",
      "\n"
     ]
    }
   ],
   "source": [
    "library(tidyverse)\n",
    "library(tidylog)"
   ]
  },
  {
   "cell_type": "code",
   "execution_count": 2,
   "id": "dc2a382d-ff3e-423e-8ff3-9db81e3262f7",
   "metadata": {},
   "outputs": [
    {
     "name": "stderr",
     "output_type": "stream",
     "text": [
      "\u001b[1mRows: \u001b[22m\u001b[34m1669\u001b[39m \u001b[1mColumns: \u001b[22m\u001b[34m2\u001b[39m\n",
      "\u001b[36m──\u001b[39m \u001b[1mColumn specification\u001b[22m \u001b[36m────────────────────────────────────────────────────────\u001b[39m\n",
      "\u001b[1mDelimiter:\u001b[22m \"\\t\"\n",
      "\u001b[31mchr\u001b[39m (2): otu, accession\n",
      "\n",
      "\u001b[36mℹ\u001b[39m Use `spec()` to retrieve the full column specification for this data.\n",
      "\u001b[36mℹ\u001b[39m Specify the column types or set `show_col_types = FALSE` to quiet this message.\n"
     ]
    },
    {
     "name": "stdout",
     "output_type": "stream",
     "text": [
      "Rows: 1,669\n",
      "Columns: 2\n",
      "$ otu       \u001b[3m\u001b[90m<chr>\u001b[39m\u001b[23m \"AACE03000034.3.1790\", \"AADK01036068.668.2582\", \"AAEC0300000…\n",
      "$ accession \u001b[3m\u001b[90m<chr>\u001b[39m\u001b[23m \"AACE03000034\", \"AADK01036068\", \"AAEC03000009\", \"AAEW0200000…\n"
     ]
    }
   ],
   "source": [
    "t1 = read_tsv(\"otu-accession.tsv\")\n",
    "glimpse(t1)"
   ]
  },
  {
   "cell_type": "code",
   "execution_count": 3,
   "id": "d81f37a6-adf7-43c4-9524-9adb84f4026e",
   "metadata": {},
   "outputs": [
    {
     "name": "stderr",
     "output_type": "stream",
     "text": [
      "\u001b[1mRows: \u001b[22m\u001b[34m1667\u001b[39m \u001b[1mColumns: \u001b[22m\u001b[34m10\u001b[39m\n",
      "\u001b[36m──\u001b[39m \u001b[1mColumn specification\u001b[22m \u001b[36m────────────────────────────────────────────────────────\u001b[39m\n",
      "\u001b[1mDelimiter:\u001b[22m \"\\t\"\n",
      "\u001b[31mchr\u001b[39m (9): accession, species, genus, family, order, class, phylum, superkingd...\n",
      "\u001b[32mdbl\u001b[39m (1): taxid\n",
      "\n",
      "\u001b[36mℹ\u001b[39m Use `spec()` to retrieve the full column specification for this data.\n",
      "\u001b[36mℹ\u001b[39m Specify the column types or set `show_col_types = FALSE` to quiet this message.\n"
     ]
    },
    {
     "name": "stdout",
     "output_type": "stream",
     "text": [
      "Rows: 1,667\n",
      "Columns: 10\n",
      "$ accession    \u001b[3m\u001b[90m<chr>\u001b[39m\u001b[23m \"ASMQ01000007\", \"ASMO01000004\", \"MNZY01000038\", \"MCBF0100…\n",
      "$ taxid        \u001b[3m\u001b[90m<dbl>\u001b[39m\u001b[23m 743730, 1130284, 1803514, 1878999, 1104576, 1104575, 7437…\n",
      "$ species      \u001b[3m\u001b[90m<chr>\u001b[39m\u001b[23m \"Candidatus Aenigmarchaeum subterraneum\", \"Candidatus Aen…\n",
      "$ genus        \u001b[3m\u001b[90m<chr>\u001b[39m\u001b[23m \"Candidatus Aenigmarchaeum\", \"Unclassified Candidatus Aen…\n",
      "$ family       \u001b[3m\u001b[90m<chr>\u001b[39m\u001b[23m \"Unclassified Candidatus Aenigmarchaeota\", \"Unclassified …\n",
      "$ order        \u001b[3m\u001b[90m<chr>\u001b[39m\u001b[23m \"Unclassified Candidatus Aenigmarchaeota\", \"Unclassified …\n",
      "$ class        \u001b[3m\u001b[90m<chr>\u001b[39m\u001b[23m \"Unclassified Candidatus Aenigmarchaeota\", \"Unclassified …\n",
      "$ phylum       \u001b[3m\u001b[90m<chr>\u001b[39m\u001b[23m \"Candidatus Aenigmarchaeota\", \"Candidatus Aenigmarchaeota…\n",
      "$ superkingdom \u001b[3m\u001b[90m<chr>\u001b[39m\u001b[23m \"Archaea\", \"Archaea\", \"Archaea\", \"Archaea\", \"Archaea\", \"A…\n",
      "$ path         \u001b[3m\u001b[90m<chr>\u001b[39m\u001b[23m \"Archaea➤Candidatus Aenigmarchaeota➤Unclassified Candidat…\n"
     ]
    }
   ],
   "source": [
    "t2 = read_tsv(\"coral-microbiome-taxonomy.tsv\")\n",
    "glimpse(t2)"
   ]
  },
  {
   "cell_type": "code",
   "execution_count": 4,
   "id": "74a3eb29-b781-4b8a-83e2-b3e96ed3cf0c",
   "metadata": {},
   "outputs": [
    {
     "name": "stderr",
     "output_type": "stream",
     "text": [
      "\u001b[1m\u001b[22mJoining, by = \"accession\"\n",
      "inner_join: added 9 columns (taxid, species, genus, family, order, …)\n",
      "\n",
      "            > rows only in x  (    0)\n",
      "\n",
      "            > rows only in y  (    0)\n",
      "\n",
      "            > matched rows     1,669\n",
      "\n",
      "            >                 =======\n",
      "\n",
      "            > rows total       1,669\n",
      "\n"
     ]
    }
   ],
   "source": [
    "t3 = t1 %>% inner_join(t2)"
   ]
  },
  {
   "cell_type": "code",
   "execution_count": 5,
   "id": "5052823e-755b-4ccc-91bc-897a17afb347",
   "metadata": {},
   "outputs": [
    {
     "name": "stdout",
     "output_type": "stream",
     "text": [
      "Rows: 1,669\n",
      "Columns: 11\n",
      "$ otu          \u001b[3m\u001b[90m<chr>\u001b[39m\u001b[23m \"AACE03000034.3.1790\", \"AADK01036068.668.2582\", \"AAEC0300…\n",
      "$ accession    \u001b[3m\u001b[90m<chr>\u001b[39m\u001b[23m \"AACE03000034\", \"AADK01036068\", \"AAEC03000009\", \"AAEW0200…\n",
      "$ taxid        \u001b[3m\u001b[90m<dbl>\u001b[39m\u001b[23m 226302, 7091, 246410, 281689, 314264, 398720, 314230, 314…\n",
      "$ species      \u001b[3m\u001b[90m<chr>\u001b[39m\u001b[23m \"Lachancea kluyveri\", \"Bombyx mori\", \"Coccidioides immiti…\n",
      "$ genus        \u001b[3m\u001b[90m<chr>\u001b[39m\u001b[23m \"Lachancea\", \"Bombyx\", \"Coccidioides\", \"Desulfuromonas\", …\n",
      "$ family       \u001b[3m\u001b[90m<chr>\u001b[39m\u001b[23m \"Saccharomycetaceae\", \"Bombycidae\", \"Onygenaceae\", \"Desul…\n",
      "$ order        \u001b[3m\u001b[90m<chr>\u001b[39m\u001b[23m \"Saccharomycetales\", \"Lepidoptera\", \"Onygenales\", \"Desulf…\n",
      "$ class        \u001b[3m\u001b[90m<chr>\u001b[39m\u001b[23m \"Saccharomycetes\", \"Insecta\", \"Eurotiomycetes\", \"Deltapro…\n",
      "$ phylum       \u001b[3m\u001b[90m<chr>\u001b[39m\u001b[23m \"Ascomycota\", \"Arthropoda\", \"Ascomycota\", \"Proteobacteria…\n",
      "$ superkingdom \u001b[3m\u001b[90m<chr>\u001b[39m\u001b[23m \"Eukaryota\", \"Eukaryota\", \"Eukaryota\", \"Bacteria\", \"Bacte…\n",
      "$ path         \u001b[3m\u001b[90m<chr>\u001b[39m\u001b[23m \"Eukaryota➤Ascomycota➤Saccharomycetes➤Saccharomycetales➤S…\n"
     ]
    }
   ],
   "source": [
    "glimpse(t3)"
   ]
  },
  {
   "cell_type": "code",
   "execution_count": 6,
   "id": "d21b3fd8-fad9-434d-b611-068a06c28a09",
   "metadata": {},
   "outputs": [],
   "source": [
    "write_tsv(t3, \"coral-microbiome-ref.tsv\")"
   ]
  },
  {
   "cell_type": "code",
   "execution_count": null,
   "id": "63e93e12-79bf-4304-947e-cd55691f0486",
   "metadata": {},
   "outputs": [],
   "source": [
    "sessionInfo()"
   ]
  }
 ],
 "metadata": {
  "kernelspec": {
   "display_name": "R",
   "language": "R",
   "name": "ir"
  },
  "language_info": {
   "codemirror_mode": "r",
   "file_extension": ".r",
   "mimetype": "text/x-r-source",
   "name": "R",
   "pygments_lexer": "r",
   "version": "4.2.1"
  }
 },
 "nbformat": 4,
 "nbformat_minor": 5
}
