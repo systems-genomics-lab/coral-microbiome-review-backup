{
 "cells": [
  {
   "cell_type": "code",
   "execution_count": 7,
   "id": "6c3abdd5-0c88-4237-aa92-f020d53fa2c7",
   "metadata": {},
   "outputs": [],
   "source": [
    "library(tidyverse)\n",
    "library(tidylog)\n",
    "library(randomcoloR)"
   ]
  },
  {
   "cell_type": "code",
   "execution_count": 12,
   "id": "080e658d-f9da-4407-8c74-a022bb19e643",
   "metadata": {},
   "outputs": [
    {
     "name": "stderr",
     "output_type": "stream",
     "text": [
      "\u001b[1mRows: \u001b[22m\u001b[34m1669\u001b[39m \u001b[1mColumns: \u001b[22m\u001b[34m2\u001b[39m\n",
      "\u001b[36m──\u001b[39m \u001b[1mColumn specification\u001b[22m \u001b[36m────────────────────────────────────────────────────────\u001b[39m\n",
      "\u001b[1mDelimiter:\u001b[22m \"\\t\"\n",
      "\u001b[31mchr\u001b[39m (2): otu, phylum\n",
      "\n",
      "\u001b[36mℹ\u001b[39m Use `spec()` to retrieve the full column specification for this data.\n",
      "\u001b[36mℹ\u001b[39m Specify the column types or set `show_col_types = FALSE` to quiet this message.\n"
     ]
    },
    {
     "data": {
      "text/html": [
       "<table class=\"dataframe\">\n",
       "<caption>A tibble: 6 × 2</caption>\n",
       "<thead>\n",
       "\t<tr><th scope=col>otu</th><th scope=col>phylum</th></tr>\n",
       "\t<tr><th scope=col>&lt;chr&gt;</th><th scope=col>&lt;chr&gt;</th></tr>\n",
       "</thead>\n",
       "<tbody>\n",
       "\t<tr><td>ASMQ01000007.23975.25425  </td><td>Candidatus Aenigmarchaeota</td></tr>\n",
       "\t<tr><td>ASMO01000004.23831.25277  </td><td>Candidatus Aenigmarchaeota</td></tr>\n",
       "\t<tr><td>MNZY01000038.10559.12029  </td><td>Candidatus Altiarchaeota  </td></tr>\n",
       "\t<tr><td>MCBF01000001.541619.543111</td><td>Candidatus Altiarchaeota  </td></tr>\n",
       "\t<tr><td>AQRS01000026.3862.5336    </td><td>Candidatus Diapherotrites </td></tr>\n",
       "\t<tr><td>ASMR01000001.18974.20405  </td><td>Candidatus Diapherotrites </td></tr>\n",
       "</tbody>\n",
       "</table>\n"
      ],
      "text/latex": [
       "A tibble: 6 × 2\n",
       "\\begin{tabular}{ll}\n",
       " otu & phylum\\\\\n",
       " <chr> & <chr>\\\\\n",
       "\\hline\n",
       "\t ASMQ01000007.23975.25425   & Candidatus Aenigmarchaeota\\\\\n",
       "\t ASMO01000004.23831.25277   & Candidatus Aenigmarchaeota\\\\\n",
       "\t MNZY01000038.10559.12029   & Candidatus Altiarchaeota  \\\\\n",
       "\t MCBF01000001.541619.543111 & Candidatus Altiarchaeota  \\\\\n",
       "\t AQRS01000026.3862.5336     & Candidatus Diapherotrites \\\\\n",
       "\t ASMR01000001.18974.20405   & Candidatus Diapherotrites \\\\\n",
       "\\end{tabular}\n"
      ],
      "text/markdown": [
       "\n",
       "A tibble: 6 × 2\n",
       "\n",
       "| otu &lt;chr&gt; | phylum &lt;chr&gt; |\n",
       "|---|---|\n",
       "| ASMQ01000007.23975.25425   | Candidatus Aenigmarchaeota |\n",
       "| ASMO01000004.23831.25277   | Candidatus Aenigmarchaeota |\n",
       "| MNZY01000038.10559.12029   | Candidatus Altiarchaeota   |\n",
       "| MCBF01000001.541619.543111 | Candidatus Altiarchaeota   |\n",
       "| AQRS01000026.3862.5336     | Candidatus Diapherotrites  |\n",
       "| ASMR01000001.18974.20405   | Candidatus Diapherotrites  |\n",
       "\n"
      ],
      "text/plain": [
       "  otu                        phylum                    \n",
       "1 ASMQ01000007.23975.25425   Candidatus Aenigmarchaeota\n",
       "2 ASMO01000004.23831.25277   Candidatus Aenigmarchaeota\n",
       "3 MNZY01000038.10559.12029   Candidatus Altiarchaeota  \n",
       "4 MCBF01000001.541619.543111 Candidatus Altiarchaeota  \n",
       "5 AQRS01000026.3862.5336     Candidatus Diapherotrites \n",
       "6 ASMR01000001.18974.20405   Candidatus Diapherotrites "
      ]
     },
     "metadata": {},
     "output_type": "display_data"
    }
   ],
   "source": [
    "t1 = read_tsv(\"coral-microbiome-phyla.tsv\")\n",
    "head(t1)"
   ]
  },
  {
   "cell_type": "code",
   "execution_count": 13,
   "id": "9c0e9505-4e82-4dbb-9778-13435c901fd9",
   "metadata": {},
   "outputs": [
    {
     "name": "stderr",
     "output_type": "stream",
     "text": [
      "select: dropped one variable (otu)\n",
      "\n",
      "distinct: removed 1,525 rows (91%), 144 rows remaining\n",
      "\n"
     ]
    },
    {
     "data": {
      "text/html": [
       "<table class=\"dataframe\">\n",
       "<caption>A tibble: 6 × 1</caption>\n",
       "<thead>\n",
       "\t<tr><th scope=col>phylum</th></tr>\n",
       "\t<tr><th scope=col>&lt;chr&gt;</th></tr>\n",
       "</thead>\n",
       "<tbody>\n",
       "\t<tr><td>Candidatus Aenigmarchaeota </td></tr>\n",
       "\t<tr><td>Candidatus Altiarchaeota   </td></tr>\n",
       "\t<tr><td>Candidatus Diapherotrites  </td></tr>\n",
       "\t<tr><td>Candidatus Korarchaeota    </td></tr>\n",
       "\t<tr><td>Candidatus Lokiarchaeota   </td></tr>\n",
       "\t<tr><td>Candidatus Thermoplasmatota</td></tr>\n",
       "</tbody>\n",
       "</table>\n"
      ],
      "text/latex": [
       "A tibble: 6 × 1\n",
       "\\begin{tabular}{l}\n",
       " phylum\\\\\n",
       " <chr>\\\\\n",
       "\\hline\n",
       "\t Candidatus Aenigmarchaeota \\\\\n",
       "\t Candidatus Altiarchaeota   \\\\\n",
       "\t Candidatus Diapherotrites  \\\\\n",
       "\t Candidatus Korarchaeota    \\\\\n",
       "\t Candidatus Lokiarchaeota   \\\\\n",
       "\t Candidatus Thermoplasmatota\\\\\n",
       "\\end{tabular}\n"
      ],
      "text/markdown": [
       "\n",
       "A tibble: 6 × 1\n",
       "\n",
       "| phylum &lt;chr&gt; |\n",
       "|---|\n",
       "| Candidatus Aenigmarchaeota  |\n",
       "| Candidatus Altiarchaeota    |\n",
       "| Candidatus Diapherotrites   |\n",
       "| Candidatus Korarchaeota     |\n",
       "| Candidatus Lokiarchaeota    |\n",
       "| Candidatus Thermoplasmatota |\n",
       "\n"
      ],
      "text/plain": [
       "  phylum                     \n",
       "1 Candidatus Aenigmarchaeota \n",
       "2 Candidatus Altiarchaeota   \n",
       "3 Candidatus Diapherotrites  \n",
       "4 Candidatus Korarchaeota    \n",
       "5 Candidatus Lokiarchaeota   \n",
       "6 Candidatus Thermoplasmatota"
      ]
     },
     "metadata": {},
     "output_type": "display_data"
    }
   ],
   "source": [
    "phyla = t1 %>% select(phylum) %>% distinct()\n",
    "head(phyla)"
   ]
  },
  {
   "cell_type": "code",
   "execution_count": 14,
   "id": "f60f5023-5f85-45b9-ada7-de28d2acf50b",
   "metadata": {},
   "outputs": [
    {
     "data": {
      "text/html": [
       "<style>\n",
       ".list-inline {list-style: none; margin:0; padding: 0}\n",
       ".list-inline>li {display: inline-block}\n",
       ".list-inline>li:not(:last-child)::after {content: \"\\00b7\"; padding: 0 .5ex}\n",
       "</style>\n",
       "<ol class=list-inline><li>'#C19EDA'</li><li>'#94D1EA'</li><li>'#F53495'</li><li>'#84A8EF'</li><li>'#6C7960'</li><li>'#F197A3'</li></ol>\n"
      ],
      "text/latex": [
       "\\begin{enumerate*}\n",
       "\\item '\\#C19EDA'\n",
       "\\item '\\#94D1EA'\n",
       "\\item '\\#F53495'\n",
       "\\item '\\#84A8EF'\n",
       "\\item '\\#6C7960'\n",
       "\\item '\\#F197A3'\n",
       "\\end{enumerate*}\n"
      ],
      "text/markdown": [
       "1. '#C19EDA'\n",
       "2. '#94D1EA'\n",
       "3. '#F53495'\n",
       "4. '#84A8EF'\n",
       "5. '#6C7960'\n",
       "6. '#F197A3'\n",
       "\n",
       "\n"
      ],
      "text/plain": [
       "[1] \"#C19EDA\" \"#94D1EA\" \"#F53495\" \"#84A8EF\" \"#6C7960\" \"#F197A3\""
      ]
     },
     "metadata": {},
     "output_type": "display_data"
    },
    {
     "data": {
      "text/html": [
       "<style>\n",
       ".list-inline {list-style: none; margin:0; padding: 0}\n",
       ".list-inline>li {display: inline-block}\n",
       ".list-inline>li:not(:last-child)::after {content: \"\\00b7\"; padding: 0 .5ex}\n",
       "</style>\n",
       "<ol class=list-inline><li>'#EF5ABE'</li><li>'#693F8F'</li><li>'#7584CD'</li><li>'#51F33A'</li><li>'#BB8B9D'</li><li>'#E8E736'</li></ol>\n"
      ],
      "text/latex": [
       "\\begin{enumerate*}\n",
       "\\item '\\#EF5ABE'\n",
       "\\item '\\#693F8F'\n",
       "\\item '\\#7584CD'\n",
       "\\item '\\#51F33A'\n",
       "\\item '\\#BB8B9D'\n",
       "\\item '\\#E8E736'\n",
       "\\end{enumerate*}\n"
      ],
      "text/markdown": [
       "1. '#EF5ABE'\n",
       "2. '#693F8F'\n",
       "3. '#7584CD'\n",
       "4. '#51F33A'\n",
       "5. '#BB8B9D'\n",
       "6. '#E8E736'\n",
       "\n",
       "\n"
      ],
      "text/plain": [
       "[1] \"#EF5ABE\" \"#693F8F\" \"#7584CD\" \"#51F33A\" \"#BB8B9D\" \"#E8E736\""
      ]
     },
     "metadata": {},
     "output_type": "display_data"
    }
   ],
   "source": [
    "palette = distinctColorPalette(nrow(phyla))\n",
    "head(palette)\n",
    "tail(palette)"
   ]
  },
  {
   "cell_type": "code",
   "execution_count": 15,
   "id": "b83fc1c3-0619-4312-b633-569cc06d9e37",
   "metadata": {},
   "outputs": [
    {
     "name": "stderr",
     "output_type": "stream",
     "text": [
      "mutate: new variable 'color' (character) with 144 unique values and 0% NA\n",
      "\n"
     ]
    },
    {
     "data": {
      "text/html": [
       "<table class=\"dataframe\">\n",
       "<caption>A tibble: 6 × 2</caption>\n",
       "<thead>\n",
       "\t<tr><th scope=col>phylum</th><th scope=col>color</th></tr>\n",
       "\t<tr><th scope=col>&lt;chr&gt;</th><th scope=col>&lt;chr&gt;</th></tr>\n",
       "</thead>\n",
       "<tbody>\n",
       "\t<tr><td>Candidatus Aenigmarchaeota </td><td>#C19EDA</td></tr>\n",
       "\t<tr><td>Candidatus Altiarchaeota   </td><td>#94D1EA</td></tr>\n",
       "\t<tr><td>Candidatus Diapherotrites  </td><td>#F53495</td></tr>\n",
       "\t<tr><td>Candidatus Korarchaeota    </td><td>#84A8EF</td></tr>\n",
       "\t<tr><td>Candidatus Lokiarchaeota   </td><td>#6C7960</td></tr>\n",
       "\t<tr><td>Candidatus Thermoplasmatota</td><td>#F197A3</td></tr>\n",
       "</tbody>\n",
       "</table>\n"
      ],
      "text/latex": [
       "A tibble: 6 × 2\n",
       "\\begin{tabular}{ll}\n",
       " phylum & color\\\\\n",
       " <chr> & <chr>\\\\\n",
       "\\hline\n",
       "\t Candidatus Aenigmarchaeota  & \\#C19EDA\\\\\n",
       "\t Candidatus Altiarchaeota    & \\#94D1EA\\\\\n",
       "\t Candidatus Diapherotrites   & \\#F53495\\\\\n",
       "\t Candidatus Korarchaeota     & \\#84A8EF\\\\\n",
       "\t Candidatus Lokiarchaeota    & \\#6C7960\\\\\n",
       "\t Candidatus Thermoplasmatota & \\#F197A3\\\\\n",
       "\\end{tabular}\n"
      ],
      "text/markdown": [
       "\n",
       "A tibble: 6 × 2\n",
       "\n",
       "| phylum &lt;chr&gt; | color &lt;chr&gt; |\n",
       "|---|---|\n",
       "| Candidatus Aenigmarchaeota  | #C19EDA |\n",
       "| Candidatus Altiarchaeota    | #94D1EA |\n",
       "| Candidatus Diapherotrites   | #F53495 |\n",
       "| Candidatus Korarchaeota     | #84A8EF |\n",
       "| Candidatus Lokiarchaeota    | #6C7960 |\n",
       "| Candidatus Thermoplasmatota | #F197A3 |\n",
       "\n"
      ],
      "text/plain": [
       "  phylum                      color  \n",
       "1 Candidatus Aenigmarchaeota  #C19EDA\n",
       "2 Candidatus Altiarchaeota    #94D1EA\n",
       "3 Candidatus Diapherotrites   #F53495\n",
       "4 Candidatus Korarchaeota     #84A8EF\n",
       "5 Candidatus Lokiarchaeota    #6C7960\n",
       "6 Candidatus Thermoplasmatota #F197A3"
      ]
     },
     "metadata": {},
     "output_type": "display_data"
    }
   ],
   "source": [
    "phyla2 = phyla %>% mutate (color = palette)\n",
    "head(phyla2)"
   ]
  },
  {
   "cell_type": "code",
   "execution_count": 16,
   "id": "61991b5a-c714-47da-a973-127dc6c39ab3",
   "metadata": {},
   "outputs": [
    {
     "name": "stderr",
     "output_type": "stream",
     "text": [
      "\u001b[1m\u001b[22mJoining, by = \"phylum\"\n",
      "inner_join: added one column (color)\n",
      "\n",
      "            > rows only in x  (    0)\n",
      "\n",
      "            > rows only in y  (    0)\n",
      "\n",
      "            > matched rows     1,669\n",
      "\n",
      "            >                 =======\n",
      "\n",
      "            > rows total       1,669\n",
      "\n"
     ]
    },
    {
     "data": {
      "text/html": [
       "<table class=\"dataframe\">\n",
       "<caption>A tibble: 6 × 3</caption>\n",
       "<thead>\n",
       "\t<tr><th scope=col>otu</th><th scope=col>phylum</th><th scope=col>color</th></tr>\n",
       "\t<tr><th scope=col>&lt;chr&gt;</th><th scope=col>&lt;chr&gt;</th><th scope=col>&lt;chr&gt;</th></tr>\n",
       "</thead>\n",
       "<tbody>\n",
       "\t<tr><td>ASMQ01000007.23975.25425  </td><td>Candidatus Aenigmarchaeota</td><td>#C19EDA</td></tr>\n",
       "\t<tr><td>ASMO01000004.23831.25277  </td><td>Candidatus Aenigmarchaeota</td><td>#C19EDA</td></tr>\n",
       "\t<tr><td>MNZY01000038.10559.12029  </td><td>Candidatus Altiarchaeota  </td><td>#94D1EA</td></tr>\n",
       "\t<tr><td>MCBF01000001.541619.543111</td><td>Candidatus Altiarchaeota  </td><td>#94D1EA</td></tr>\n",
       "\t<tr><td>AQRS01000026.3862.5336    </td><td>Candidatus Diapherotrites </td><td>#F53495</td></tr>\n",
       "\t<tr><td>ASMR01000001.18974.20405  </td><td>Candidatus Diapherotrites </td><td>#F53495</td></tr>\n",
       "</tbody>\n",
       "</table>\n"
      ],
      "text/latex": [
       "A tibble: 6 × 3\n",
       "\\begin{tabular}{lll}\n",
       " otu & phylum & color\\\\\n",
       " <chr> & <chr> & <chr>\\\\\n",
       "\\hline\n",
       "\t ASMQ01000007.23975.25425   & Candidatus Aenigmarchaeota & \\#C19EDA\\\\\n",
       "\t ASMO01000004.23831.25277   & Candidatus Aenigmarchaeota & \\#C19EDA\\\\\n",
       "\t MNZY01000038.10559.12029   & Candidatus Altiarchaeota   & \\#94D1EA\\\\\n",
       "\t MCBF01000001.541619.543111 & Candidatus Altiarchaeota   & \\#94D1EA\\\\\n",
       "\t AQRS01000026.3862.5336     & Candidatus Diapherotrites  & \\#F53495\\\\\n",
       "\t ASMR01000001.18974.20405   & Candidatus Diapherotrites  & \\#F53495\\\\\n",
       "\\end{tabular}\n"
      ],
      "text/markdown": [
       "\n",
       "A tibble: 6 × 3\n",
       "\n",
       "| otu &lt;chr&gt; | phylum &lt;chr&gt; | color &lt;chr&gt; |\n",
       "|---|---|---|\n",
       "| ASMQ01000007.23975.25425   | Candidatus Aenigmarchaeota | #C19EDA |\n",
       "| ASMO01000004.23831.25277   | Candidatus Aenigmarchaeota | #C19EDA |\n",
       "| MNZY01000038.10559.12029   | Candidatus Altiarchaeota   | #94D1EA |\n",
       "| MCBF01000001.541619.543111 | Candidatus Altiarchaeota   | #94D1EA |\n",
       "| AQRS01000026.3862.5336     | Candidatus Diapherotrites  | #F53495 |\n",
       "| ASMR01000001.18974.20405   | Candidatus Diapherotrites  | #F53495 |\n",
       "\n"
      ],
      "text/plain": [
       "  otu                        phylum                     color  \n",
       "1 ASMQ01000007.23975.25425   Candidatus Aenigmarchaeota #C19EDA\n",
       "2 ASMO01000004.23831.25277   Candidatus Aenigmarchaeota #C19EDA\n",
       "3 MNZY01000038.10559.12029   Candidatus Altiarchaeota   #94D1EA\n",
       "4 MCBF01000001.541619.543111 Candidatus Altiarchaeota   #94D1EA\n",
       "5 AQRS01000026.3862.5336     Candidatus Diapherotrites  #F53495\n",
       "6 ASMR01000001.18974.20405   Candidatus Diapherotrites  #F53495"
      ]
     },
     "metadata": {},
     "output_type": "display_data"
    }
   ],
   "source": [
    "t2 = t1 %>% inner_join(phyla2)\n",
    "head(t2)"
   ]
  },
  {
   "cell_type": "code",
   "execution_count": 17,
   "id": "e2d809d6-2d83-4b53-a52c-1664930d0f10",
   "metadata": {},
   "outputs": [],
   "source": [
    "write_tsv(t2, \"coral-microbiome-phyla-with-colors.tsv\")"
   ]
  },
  {
   "cell_type": "code",
   "execution_count": null,
   "id": "749b688c-7108-4a40-b434-baa92a9e1557",
   "metadata": {},
   "outputs": [],
   "source": [
    "sessionInfo"
   ]
  }
 ],
 "metadata": {
  "kernelspec": {
   "display_name": "R",
   "language": "R",
   "name": "ir"
  },
  "language_info": {
   "codemirror_mode": "r",
   "file_extension": ".r",
   "mimetype": "text/x-r-source",
   "name": "R",
   "pygments_lexer": "r",
   "version": "4.2.1"
  }
 },
 "nbformat": 4,
 "nbformat_minor": 5
}
