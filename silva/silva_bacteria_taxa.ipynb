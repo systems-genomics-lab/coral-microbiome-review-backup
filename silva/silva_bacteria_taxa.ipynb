{
 "cells": [
  {
   "cell_type": "code",
   "execution_count": 1,
   "id": "7fa64377-5c26-4c4f-8b1c-5b16a55392a7",
   "metadata": {},
   "outputs": [],
   "source": [
    "import pandas as pd"
   ]
  },
  {
   "cell_type": "code",
   "execution_count": 2,
   "id": "015a9646-f508-43ca-97a0-0b88535fe4ed",
   "metadata": {},
   "outputs": [
    {
     "data": {
      "text/plain": [
       "['kingdom', 'phylum', 'class', 'order', 'family', 'genus', 'species']"
      ]
     },
     "execution_count": 2,
     "metadata": {},
     "output_type": "execute_result"
    }
   ],
   "source": [
    "tax_levels = [\"kingdom\", \"phylum\", \"class\", \"order\", \"family\", \"genus\", \"species\"]\n",
    "tax_levels"
   ]
  },
  {
   "cell_type": "code",
   "execution_count": 3,
   "id": "70aefde6-496c-421c-bfa0-cae2ea9eedfd",
   "metadata": {},
   "outputs": [
    {
     "data": {
      "text/plain": [
       "'_unclassified_'"
      ]
     },
     "execution_count": 3,
     "metadata": {},
     "output_type": "execute_result"
    }
   ],
   "source": [
    "tax_unclassified = \"_unclassified_\"\n",
    "tax_unclassified"
   ]
  },
  {
   "cell_type": "code",
   "execution_count": 4,
   "id": "d7173714-e0a2-47e0-b92e-94e8cfc52224",
   "metadata": {},
   "outputs": [
    {
     "data": {
      "text/html": [
       "<div>\n",
       "<style scoped>\n",
       "    .dataframe tbody tr th:only-of-type {\n",
       "        vertical-align: middle;\n",
       "    }\n",
       "\n",
       "    .dataframe tbody tr th {\n",
       "        vertical-align: top;\n",
       "    }\n",
       "\n",
       "    .dataframe thead th {\n",
       "        text-align: right;\n",
       "    }\n",
       "</style>\n",
       "<table border=\"1\" class=\"dataframe\">\n",
       "  <thead>\n",
       "    <tr style=\"text-align: right;\">\n",
       "      <th></th>\n",
       "      <th>accession</th>\n",
       "      <th>path</th>\n",
       "    </tr>\n",
       "  </thead>\n",
       "  <tbody>\n",
       "    <tr>\n",
       "      <th>0</th>\n",
       "      <td>MNUF01000028.16163.17137</td>\n",
       "      <td>Archaea;Aenigmarchaeota;Aenigmarchaeia;Aenigma...</td>\n",
       "    </tr>\n",
       "    <tr>\n",
       "      <th>1</th>\n",
       "      <td>ASMO01000004.23831.25277</td>\n",
       "      <td>Archaea;Aenigmarchaeota;Aenigmarchaeia;Aenigma...</td>\n",
       "    </tr>\n",
       "    <tr>\n",
       "      <th>2</th>\n",
       "      <td>ASMQ01000007.23975.25425</td>\n",
       "      <td>Archaea;Aenigmarchaeota;Aenigmarchaeia;Aenigma...</td>\n",
       "    </tr>\n",
       "    <tr>\n",
       "      <th>3</th>\n",
       "      <td>AB600437.1.1389</td>\n",
       "      <td>Archaea;Aenigmarchaeota;Aenigmarchaeia;Aenigma...</td>\n",
       "    </tr>\n",
       "    <tr>\n",
       "      <th>4</th>\n",
       "      <td>AB600445.1.1407</td>\n",
       "      <td>Archaea;Aenigmarchaeota;Aenigmarchaeia;Aenigma...</td>\n",
       "    </tr>\n",
       "  </tbody>\n",
       "</table>\n",
       "</div>"
      ],
      "text/plain": [
       "                  accession                                               path\n",
       "0  MNUF01000028.16163.17137  Archaea;Aenigmarchaeota;Aenigmarchaeia;Aenigma...\n",
       "1  ASMO01000004.23831.25277  Archaea;Aenigmarchaeota;Aenigmarchaeia;Aenigma...\n",
       "2  ASMQ01000007.23975.25425  Archaea;Aenigmarchaeota;Aenigmarchaeia;Aenigma...\n",
       "3           AB600437.1.1389  Archaea;Aenigmarchaeota;Aenigmarchaeia;Aenigma...\n",
       "4           AB600445.1.1407  Archaea;Aenigmarchaeota;Aenigmarchaeia;Aenigma..."
      ]
     },
     "execution_count": 4,
     "metadata": {},
     "output_type": "execute_result"
    }
   ],
   "source": [
    "df = pd.read_table(\"/data/silva/SILVA138.txt\")\n",
    "df.head()"
   ]
  },
  {
   "cell_type": "code",
   "execution_count": 5,
   "id": "350fc0db-defb-4995-9890-03cee06fd5bc",
   "metadata": {},
   "outputs": [],
   "source": [
    "outfile = open(\"/tmp/SILVA138_bacteria_taxa.tsv\", \"w\")\n",
    "\n",
    "outfile.write (\"accession\" + \"\\t\" + \"path\" + \"\\t\" + \"\\t\".join(tax_levels) + \"\\n\")\n",
    "\n",
    "for index, row in df.iterrows():\n",
    "    accession = row['accession']\n",
    "    path = row['path']\n",
    "    tokens = path.split(';')\n",
    "    count = len (tokens)\n",
    "    \n",
    "    taxa = [tax_unclassified] * len(tax_levels)\n",
    "    \n",
    "    if (tokens[0] == \"Archaea\") or (tokens[0] == \"Bacteria\"):\n",
    "                \n",
    "        taxa[len(tax_levels) - 1] = tokens[count - 1]\n",
    "        \n",
    "        for i in range(count):\n",
    "            taxa[i] = tokens[i]\n",
    "        \n",
    "        outfile.write(accession + \"\\t\" + path + \"\\t\" + \"\\t\".join(taxa) + \"\\n\")\n",
    "    \n",
    "outfile.close()"
   ]
  },
  {
   "cell_type": "code",
   "execution_count": 6,
   "id": "892a1f8c-9422-455f-8689-2b8b7eb018f8",
   "metadata": {},
   "outputs": [
    {
     "data": {
      "text/html": [
       "<div>\n",
       "<style scoped>\n",
       "    .dataframe tbody tr th:only-of-type {\n",
       "        vertical-align: middle;\n",
       "    }\n",
       "\n",
       "    .dataframe tbody tr th {\n",
       "        vertical-align: top;\n",
       "    }\n",
       "\n",
       "    .dataframe thead th {\n",
       "        text-align: right;\n",
       "    }\n",
       "</style>\n",
       "<table border=\"1\" class=\"dataframe\">\n",
       "  <thead>\n",
       "    <tr style=\"text-align: right;\">\n",
       "      <th></th>\n",
       "      <th>accession</th>\n",
       "      <th>path</th>\n",
       "      <th>kingdom</th>\n",
       "      <th>phylum</th>\n",
       "      <th>class</th>\n",
       "      <th>order</th>\n",
       "      <th>family</th>\n",
       "      <th>genus</th>\n",
       "      <th>species</th>\n",
       "    </tr>\n",
       "  </thead>\n",
       "  <tbody>\n",
       "    <tr>\n",
       "      <th>0</th>\n",
       "      <td>MNUF01000028.16163.17137</td>\n",
       "      <td>Archaea;Aenigmarchaeota;Aenigmarchaeia;Aenigma...</td>\n",
       "      <td>Archaea</td>\n",
       "      <td>Aenigmarchaeota</td>\n",
       "      <td>Aenigmarchaeia</td>\n",
       "      <td>Aenigmarchaeales</td>\n",
       "      <td>Candidatus Aenigmarchaeota archaeon CG1_02_38_14</td>\n",
       "      <td>_unclassified_</td>\n",
       "      <td>Candidatus Aenigmarchaeota archaeon CG1_02_38_14</td>\n",
       "    </tr>\n",
       "    <tr>\n",
       "      <th>1</th>\n",
       "      <td>ASMO01000004.23831.25277</td>\n",
       "      <td>Archaea;Aenigmarchaeota;Aenigmarchaeia;Aenigma...</td>\n",
       "      <td>Archaea</td>\n",
       "      <td>Aenigmarchaeota</td>\n",
       "      <td>Aenigmarchaeia</td>\n",
       "      <td>Aenigmarchaeales</td>\n",
       "      <td>Candidatus Aenigmarchaeota archaeon JGI 000010...</td>\n",
       "      <td>_unclassified_</td>\n",
       "      <td>Candidatus Aenigmarchaeota archaeon JGI 000010...</td>\n",
       "    </tr>\n",
       "    <tr>\n",
       "      <th>2</th>\n",
       "      <td>ASMQ01000007.23975.25425</td>\n",
       "      <td>Archaea;Aenigmarchaeota;Aenigmarchaeia;Aenigma...</td>\n",
       "      <td>Archaea</td>\n",
       "      <td>Aenigmarchaeota</td>\n",
       "      <td>Aenigmarchaeia</td>\n",
       "      <td>Aenigmarchaeales</td>\n",
       "      <td>Candidatus Aenigmarchaeum</td>\n",
       "      <td>Candidatus Aenigmarchaeum subterraneum SCGC AA...</td>\n",
       "      <td>Candidatus Aenigmarchaeum subterraneum SCGC AA...</td>\n",
       "    </tr>\n",
       "    <tr>\n",
       "      <th>3</th>\n",
       "      <td>AB600437.1.1389</td>\n",
       "      <td>Archaea;Aenigmarchaeota;Aenigmarchaeia;Aenigma...</td>\n",
       "      <td>Archaea</td>\n",
       "      <td>Aenigmarchaeota</td>\n",
       "      <td>Aenigmarchaeia</td>\n",
       "      <td>Aenigmarchaeales</td>\n",
       "      <td>Candidatus Aenigmarchaeum</td>\n",
       "      <td>uncultured archaeon</td>\n",
       "      <td>uncultured archaeon</td>\n",
       "    </tr>\n",
       "    <tr>\n",
       "      <th>4</th>\n",
       "      <td>AB600445.1.1407</td>\n",
       "      <td>Archaea;Aenigmarchaeota;Aenigmarchaeia;Aenigma...</td>\n",
       "      <td>Archaea</td>\n",
       "      <td>Aenigmarchaeota</td>\n",
       "      <td>Aenigmarchaeia</td>\n",
       "      <td>Aenigmarchaeales</td>\n",
       "      <td>Candidatus Aenigmarchaeum</td>\n",
       "      <td>uncultured archaeon</td>\n",
       "      <td>uncultured archaeon</td>\n",
       "    </tr>\n",
       "  </tbody>\n",
       "</table>\n",
       "</div>"
      ],
      "text/plain": [
       "                  accession  \\\n",
       "0  MNUF01000028.16163.17137   \n",
       "1  ASMO01000004.23831.25277   \n",
       "2  ASMQ01000007.23975.25425   \n",
       "3           AB600437.1.1389   \n",
       "4           AB600445.1.1407   \n",
       "\n",
       "                                                path  kingdom  \\\n",
       "0  Archaea;Aenigmarchaeota;Aenigmarchaeia;Aenigma...  Archaea   \n",
       "1  Archaea;Aenigmarchaeota;Aenigmarchaeia;Aenigma...  Archaea   \n",
       "2  Archaea;Aenigmarchaeota;Aenigmarchaeia;Aenigma...  Archaea   \n",
       "3  Archaea;Aenigmarchaeota;Aenigmarchaeia;Aenigma...  Archaea   \n",
       "4  Archaea;Aenigmarchaeota;Aenigmarchaeia;Aenigma...  Archaea   \n",
       "\n",
       "            phylum           class             order  \\\n",
       "0  Aenigmarchaeota  Aenigmarchaeia  Aenigmarchaeales   \n",
       "1  Aenigmarchaeota  Aenigmarchaeia  Aenigmarchaeales   \n",
       "2  Aenigmarchaeota  Aenigmarchaeia  Aenigmarchaeales   \n",
       "3  Aenigmarchaeota  Aenigmarchaeia  Aenigmarchaeales   \n",
       "4  Aenigmarchaeota  Aenigmarchaeia  Aenigmarchaeales   \n",
       "\n",
       "                                              family  \\\n",
       "0   Candidatus Aenigmarchaeota archaeon CG1_02_38_14   \n",
       "1  Candidatus Aenigmarchaeota archaeon JGI 000010...   \n",
       "2                          Candidatus Aenigmarchaeum   \n",
       "3                          Candidatus Aenigmarchaeum   \n",
       "4                          Candidatus Aenigmarchaeum   \n",
       "\n",
       "                                               genus  \\\n",
       "0                                     _unclassified_   \n",
       "1                                     _unclassified_   \n",
       "2  Candidatus Aenigmarchaeum subterraneum SCGC AA...   \n",
       "3                                uncultured archaeon   \n",
       "4                                uncultured archaeon   \n",
       "\n",
       "                                             species  \n",
       "0   Candidatus Aenigmarchaeota archaeon CG1_02_38_14  \n",
       "1  Candidatus Aenigmarchaeota archaeon JGI 000010...  \n",
       "2  Candidatus Aenigmarchaeum subterraneum SCGC AA...  \n",
       "3                                uncultured archaeon  \n",
       "4                                uncultured archaeon  "
      ]
     },
     "execution_count": 6,
     "metadata": {},
     "output_type": "execute_result"
    }
   ],
   "source": [
    "df2 = pd.read_table(\"/tmp/SILVA138_bacteria_taxa.tsv\")\n",
    "df2.head()"
   ]
  }
 ],
 "metadata": {
  "kernelspec": {
   "display_name": "Python 3 (ipykernel)",
   "language": "python",
   "name": "python3"
  },
  "language_info": {
   "codemirror_mode": {
    "name": "ipython",
    "version": 3
   },
   "file_extension": ".py",
   "mimetype": "text/x-python",
   "name": "python",
   "nbconvert_exporter": "python",
   "pygments_lexer": "ipython3",
   "version": "3.8.10"
  }
 },
 "nbformat": 4,
 "nbformat_minor": 5
}
