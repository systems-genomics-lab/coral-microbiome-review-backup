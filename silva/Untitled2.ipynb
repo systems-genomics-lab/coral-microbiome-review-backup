{
 "cells": [
  {
   "cell_type": "code",
   "execution_count": 1,
   "id": "366f2e36-bab7-4b0f-bbf4-f65404f55ebb",
   "metadata": {},
   "outputs": [],
   "source": [
    "library(taxonomizr)"
   ]
  },
  {
   "cell_type": "code",
   "execution_count": 3,
   "id": "fb623e29-3948-4533-b6e5-956a3e682ae4",
   "metadata": {},
   "outputs": [
    {
     "data": {
      "text/html": [
       "'KX123464'"
      ],
      "text/latex": [
       "'KX123464'"
      ],
      "text/markdown": [
       "'KX123464'"
      ],
      "text/plain": [
       "[1] \"KX123464\""
      ]
     },
     "metadata": {},
     "output_type": "display_data"
    }
   ],
   "source": [
    "accessions = c(\"KX123464\")\n",
    "accessions"
   ]
  },
  {
   "cell_type": "code",
   "execution_count": 5,
   "id": "4510442d-a915-4c5d-b5ea-c71cafbe6c40",
   "metadata": {},
   "outputs": [
    {
     "ename": "ERROR",
     "evalue": "Error: no such table: accessionTaxa\n",
     "output_type": "error",
     "traceback": [
      "Error: no such table: accessionTaxa\nTraceback:\n",
      "1. accessionToTaxa(accessions, \"/home/ahmed/projects/coral-microbiome/taxadb.sqlite\", \n .     version = c(\"version\", \"base\"))",
      "2. RSQLite::dbGetQuery(db, sprintf(\"SELECT tmp.query.accession, taxa FROM tmp.query LEFT OUTER JOIN accessionTaxa ON tmp.query.accession=accessionTaxa.%s\", \n .     version))",
      "3. RSQLite::dbGetQuery(db, sprintf(\"SELECT tmp.query.accession, taxa FROM tmp.query LEFT OUTER JOIN accessionTaxa ON tmp.query.accession=accessionTaxa.%s\", \n .     version))",
      "4. .local(conn, statement, ...)",
      "5. dbSendQuery(conn, statement, ...)",
      "6. dbSendQuery(conn, statement, ...)",
      "7. .local(conn, statement, ...)",
      "8. new(\"SQLiteResult\", sql = statement, ptr = result_create(conn@ptr, \n .     statement), conn = conn, bigint = conn@bigint)",
      "9. initialize(value, ...)",
      "10. initialize(value, ...)",
      "11. result_create(conn@ptr, statement)"
     ]
    }
   ],
   "source": [
    "accessionToTaxa(accessions, \"/home/ahmed/projects/coral-microbiome/taxadb.sqlite\", version = c(\"version\", \"base\"))"
   ]
  },
  {
   "cell_type": "code",
   "execution_count": null,
   "id": "d8f11fe7-938e-4852-a5d7-0a8b399b12cb",
   "metadata": {},
   "outputs": [],
   "source": []
  }
 ],
 "metadata": {
  "kernelspec": {
   "display_name": "R",
   "language": "R",
   "name": "ir"
  },
  "language_info": {
   "codemirror_mode": "r",
   "file_extension": ".r",
   "mimetype": "text/x-r-source",
   "name": "R",
   "pygments_lexer": "r",
   "version": "4.2.1"
  }
 },
 "nbformat": 4,
 "nbformat_minor": 5
}
