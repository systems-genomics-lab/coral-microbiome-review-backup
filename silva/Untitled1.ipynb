{
 "cells": [
  {
   "cell_type": "code",
   "execution_count": 1,
   "id": "6b217fb8-546d-4375-adad-c486b01643e8",
   "metadata": {},
   "outputs": [],
   "source": [
    "library(taxadb)"
   ]
  },
  {
   "cell_type": "code",
   "execution_count": 2,
   "id": "12c376e7-e15a-48b8-af87-a6a7cf6fde67",
   "metadata": {},
   "outputs": [
    {
     "data": {
      "text/html": [
       "<table class=\"dataframe\">\n",
       "<caption>A tibble: 1 × 17</caption>\n",
       "<thead>\n",
       "\t<tr><th scope=col>input</th><th scope=col>sort</th><th scope=col>taxonID</th><th scope=col>scientificName</th><th scope=col>taxonRank</th><th scope=col>acceptedNameUsageID</th><th scope=col>taxonomicStatus</th><th scope=col>update_date</th><th scope=col>kingdom</th><th scope=col>phylum</th><th scope=col>class</th><th scope=col>order</th><th scope=col>family</th><th scope=col>genus</th><th scope=col>specificEpithet</th><th scope=col>infraspecificEpithet</th><th scope=col>vernacularName</th></tr>\n",
       "\t<tr><th scope=col>&lt;chr&gt;</th><th scope=col>&lt;int&gt;</th><th scope=col>&lt;chr&gt;</th><th scope=col>&lt;chr&gt;</th><th scope=col>&lt;chr&gt;</th><th scope=col>&lt;chr&gt;</th><th scope=col>&lt;chr&gt;</th><th scope=col>&lt;chr&gt;</th><th scope=col>&lt;chr&gt;</th><th scope=col>&lt;chr&gt;</th><th scope=col>&lt;chr&gt;</th><th scope=col>&lt;chr&gt;</th><th scope=col>&lt;chr&gt;</th><th scope=col>&lt;chr&gt;</th><th scope=col>&lt;chr&gt;</th><th scope=col>&lt;chr&gt;</th><th scope=col>&lt;chr&gt;</th></tr>\n",
       "</thead>\n",
       "<tbody>\n",
       "\t<tr><td>NCBI:83765</td><td>1</td><td>NA</td><td>NA</td><td>NA</td><td>NA</td><td>NA</td><td>NA</td><td>NA</td><td>NA</td><td>NA</td><td>NA</td><td>NA</td><td>NA</td><td>NA</td><td>NA</td><td>NA</td></tr>\n",
       "</tbody>\n",
       "</table>\n"
      ],
      "text/latex": [
       "A tibble: 1 × 17\n",
       "\\begin{tabular}{lllllllllllllllll}\n",
       " input & sort & taxonID & scientificName & taxonRank & acceptedNameUsageID & taxonomicStatus & update\\_date & kingdom & phylum & class & order & family & genus & specificEpithet & infraspecificEpithet & vernacularName\\\\\n",
       " <chr> & <int> & <chr> & <chr> & <chr> & <chr> & <chr> & <chr> & <chr> & <chr> & <chr> & <chr> & <chr> & <chr> & <chr> & <chr> & <chr>\\\\\n",
       "\\hline\n",
       "\t NCBI:83765 & 1 & NA & NA & NA & NA & NA & NA & NA & NA & NA & NA & NA & NA & NA & NA & NA\\\\\n",
       "\\end{tabular}\n"
      ],
      "text/markdown": [
       "\n",
       "A tibble: 1 × 17\n",
       "\n",
       "| input &lt;chr&gt; | sort &lt;int&gt; | taxonID &lt;chr&gt; | scientificName &lt;chr&gt; | taxonRank &lt;chr&gt; | acceptedNameUsageID &lt;chr&gt; | taxonomicStatus &lt;chr&gt; | update_date &lt;chr&gt; | kingdom &lt;chr&gt; | phylum &lt;chr&gt; | class &lt;chr&gt; | order &lt;chr&gt; | family &lt;chr&gt; | genus &lt;chr&gt; | specificEpithet &lt;chr&gt; | infraspecificEpithet &lt;chr&gt; | vernacularName &lt;chr&gt; |\n",
       "|---|---|---|---|---|---|---|---|---|---|---|---|---|---|---|---|---|\n",
       "| NCBI:83765 | 1 | NA | NA | NA | NA | NA | NA | NA | NA | NA | NA | NA | NA | NA | NA | NA |\n",
       "\n"
      ],
      "text/plain": [
       "  input      sort taxonID scientificName taxonRank acceptedNameUsageID\n",
       "1 NCBI:83765 1    NA      NA             NA        NA                 \n",
       "  taxonomicStatus update_date kingdom phylum class order family genus\n",
       "1 NA              NA          NA      NA     NA    NA    NA     NA   \n",
       "  specificEpithet infraspecificEpithet vernacularName\n",
       "1 NA              NA                   NA            "
      ]
     },
     "metadata": {},
     "output_type": "display_data"
    }
   ],
   "source": [
    "filter_id(c(\"NCBI:83765\"))"
   ]
  },
  {
   "cell_type": "code",
   "execution_count": 3,
   "id": "4863a269-d388-4f59-8a45-b644b2e6b338",
   "metadata": {},
   "outputs": [
    {
     "data": {
      "text/html": [
       "<table class=\"dataframe\">\n",
       "<caption>A tibble: 2 × 17</caption>\n",
       "<thead>\n",
       "\t<tr><th scope=col>input</th><th scope=col>sort</th><th scope=col>taxonID</th><th scope=col>scientificName</th><th scope=col>taxonRank</th><th scope=col>acceptedNameUsageID</th><th scope=col>taxonomicStatus</th><th scope=col>update_date</th><th scope=col>kingdom</th><th scope=col>phylum</th><th scope=col>class</th><th scope=col>order</th><th scope=col>family</th><th scope=col>genus</th><th scope=col>specificEpithet</th><th scope=col>infraspecificEpithet</th><th scope=col>vernacularName</th></tr>\n",
       "\t<tr><th scope=col>&lt;chr&gt;</th><th scope=col>&lt;int&gt;</th><th scope=col>&lt;chr&gt;</th><th scope=col>&lt;chr&gt;</th><th scope=col>&lt;chr&gt;</th><th scope=col>&lt;chr&gt;</th><th scope=col>&lt;chr&gt;</th><th scope=col>&lt;chr&gt;</th><th scope=col>&lt;chr&gt;</th><th scope=col>&lt;chr&gt;</th><th scope=col>&lt;chr&gt;</th><th scope=col>&lt;chr&gt;</th><th scope=col>&lt;chr&gt;</th><th scope=col>&lt;chr&gt;</th><th scope=col>&lt;chr&gt;</th><th scope=col>&lt;chr&gt;</th><th scope=col>&lt;chr&gt;</th></tr>\n",
       "</thead>\n",
       "<tbody>\n",
       "\t<tr><td>ITIS:1077358</td><td>1</td><td>ITIS:1077358</td><td>Antrostomus vociferus</td><td>species</td><td>ITIS:1077358</td><td>accepted</td><td>2018-06-26</td><td>Animalia</td><td>Chordata</td><td>Aves</td><td>Caprimulgiformes</td><td>Caprimulgidae</td><td>Antrostomus</td><td>vociferus </td><td>NA</td><td>Eastern Whip poor will</td></tr>\n",
       "\t<tr><td>ITIS:175089 </td><td>2</td><td>ITIS:175089 </td><td>Anas cyanoptera      </td><td>species</td><td>ITIS:175089 </td><td>accepted</td><td>2007-01-23</td><td>Animalia</td><td>Chordata</td><td>Aves</td><td>Anseriformes    </td><td>Anatidae     </td><td>Anas       </td><td>cyanoptera</td><td>NA</td><td>Cinnamon Teal         </td></tr>\n",
       "</tbody>\n",
       "</table>\n"
      ],
      "text/latex": [
       "A tibble: 2 × 17\n",
       "\\begin{tabular}{lllllllllllllllll}\n",
       " input & sort & taxonID & scientificName & taxonRank & acceptedNameUsageID & taxonomicStatus & update\\_date & kingdom & phylum & class & order & family & genus & specificEpithet & infraspecificEpithet & vernacularName\\\\\n",
       " <chr> & <int> & <chr> & <chr> & <chr> & <chr> & <chr> & <chr> & <chr> & <chr> & <chr> & <chr> & <chr> & <chr> & <chr> & <chr> & <chr>\\\\\n",
       "\\hline\n",
       "\t ITIS:1077358 & 1 & ITIS:1077358 & Antrostomus vociferus & species & ITIS:1077358 & accepted & 2018-06-26 & Animalia & Chordata & Aves & Caprimulgiformes & Caprimulgidae & Antrostomus & vociferus  & NA & Eastern Whip poor will\\\\\n",
       "\t ITIS:175089  & 2 & ITIS:175089  & Anas cyanoptera       & species & ITIS:175089  & accepted & 2007-01-23 & Animalia & Chordata & Aves & Anseriformes     & Anatidae      & Anas        & cyanoptera & NA & Cinnamon Teal         \\\\\n",
       "\\end{tabular}\n"
      ],
      "text/markdown": [
       "\n",
       "A tibble: 2 × 17\n",
       "\n",
       "| input &lt;chr&gt; | sort &lt;int&gt; | taxonID &lt;chr&gt; | scientificName &lt;chr&gt; | taxonRank &lt;chr&gt; | acceptedNameUsageID &lt;chr&gt; | taxonomicStatus &lt;chr&gt; | update_date &lt;chr&gt; | kingdom &lt;chr&gt; | phylum &lt;chr&gt; | class &lt;chr&gt; | order &lt;chr&gt; | family &lt;chr&gt; | genus &lt;chr&gt; | specificEpithet &lt;chr&gt; | infraspecificEpithet &lt;chr&gt; | vernacularName &lt;chr&gt; |\n",
       "|---|---|---|---|---|---|---|---|---|---|---|---|---|---|---|---|---|\n",
       "| ITIS:1077358 | 1 | ITIS:1077358 | Antrostomus vociferus | species | ITIS:1077358 | accepted | 2018-06-26 | Animalia | Chordata | Aves | Caprimulgiformes | Caprimulgidae | Antrostomus | vociferus  | NA | Eastern Whip poor will |\n",
       "| ITIS:175089  | 2 | ITIS:175089  | Anas cyanoptera       | species | ITIS:175089  | accepted | 2007-01-23 | Animalia | Chordata | Aves | Anseriformes     | Anatidae      | Anas        | cyanoptera | NA | Cinnamon Teal          |\n",
       "\n"
      ],
      "text/plain": [
       "  input        sort taxonID      scientificName        taxonRank\n",
       "1 ITIS:1077358 1    ITIS:1077358 Antrostomus vociferus species  \n",
       "2 ITIS:175089  2    ITIS:175089  Anas cyanoptera       species  \n",
       "  acceptedNameUsageID taxonomicStatus update_date kingdom  phylum   class\n",
       "1 ITIS:1077358        accepted        2018-06-26  Animalia Chordata Aves \n",
       "2 ITIS:175089         accepted        2007-01-23  Animalia Chordata Aves \n",
       "  order            family        genus       specificEpithet\n",
       "1 Caprimulgiformes Caprimulgidae Antrostomus vociferus      \n",
       "2 Anseriformes     Anatidae      Anas        cyanoptera     \n",
       "  infraspecificEpithet vernacularName        \n",
       "1 NA                   Eastern Whip poor will\n",
       "2 NA                   Cinnamon Teal         "
      ]
     },
     "metadata": {},
     "output_type": "display_data"
    }
   ],
   "source": [
    "filter_id(c(\"ITIS:1077358\", \"ITIS:175089\"))"
   ]
  },
  {
   "cell_type": "code",
   "execution_count": null,
   "id": "f3492514-ffc3-4b5c-bf19-fb3bae9162b8",
   "metadata": {},
   "outputs": [],
   "source": []
  }
 ],
 "metadata": {
  "kernelspec": {
   "display_name": "R",
   "language": "R",
   "name": "ir"
  },
  "language_info": {
   "codemirror_mode": "r",
   "file_extension": ".r",
   "mimetype": "text/x-r-source",
   "name": "R",
   "pygments_lexer": "r",
   "version": "4.2.1"
  }
 },
 "nbformat": 4,
 "nbformat_minor": 5
}
