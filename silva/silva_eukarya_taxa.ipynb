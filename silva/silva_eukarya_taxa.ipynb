{
 "cells": [
  {
   "cell_type": "code",
   "execution_count": 1,
   "id": "7fa64377-5c26-4c4f-8b1c-5b16a55392a7",
   "metadata": {},
   "outputs": [],
   "source": [
    "import pandas as pd"
   ]
  },
  {
   "cell_type": "code",
   "execution_count": 2,
   "id": "015a9646-f508-43ca-97a0-0b88535fe4ed",
   "metadata": {},
   "outputs": [
    {
     "data": {
      "text/plain": [
       "['kingdom', 'phylum', 'class', 'order', 'family', 'genus', 'species']"
      ]
     },
     "execution_count": 2,
     "metadata": {},
     "output_type": "execute_result"
    }
   ],
   "source": [
    "tax_levels = [\"kingdom\", \"phylum\", \"class\", \"order\", \"family\", \"genus\", \"species\"]\n",
    "tax_levels"
   ]
  },
  {
   "cell_type": "code",
   "execution_count": 3,
   "id": "70aefde6-496c-421c-bfa0-cae2ea9eedfd",
   "metadata": {},
   "outputs": [
    {
     "data": {
      "text/plain": [
       "'_unclassified_'"
      ]
     },
     "execution_count": 3,
     "metadata": {},
     "output_type": "execute_result"
    }
   ],
   "source": [
    "tax_unclassified = \"_unclassified_\"\n",
    "tax_unclassified"
   ]
  },
  {
   "cell_type": "code",
   "execution_count": 11,
   "id": "d7173714-e0a2-47e0-b92e-94e8cfc52224",
   "metadata": {},
   "outputs": [
    {
     "data": {
      "text/html": [
       "<div>\n",
       "<style scoped>\n",
       "    .dataframe tbody tr th:only-of-type {\n",
       "        vertical-align: middle;\n",
       "    }\n",
       "\n",
       "    .dataframe tbody tr th {\n",
       "        vertical-align: top;\n",
       "    }\n",
       "\n",
       "    .dataframe thead th {\n",
       "        text-align: right;\n",
       "    }\n",
       "</style>\n",
       "<table border=\"1\" class=\"dataframe\">\n",
       "  <thead>\n",
       "    <tr style=\"text-align: right;\">\n",
       "      <th></th>\n",
       "      <th>accession</th>\n",
       "      <th>path</th>\n",
       "    </tr>\n",
       "  </thead>\n",
       "  <tbody>\n",
       "    <tr>\n",
       "      <th>0</th>\n",
       "      <td>MNUF01000028.16163.17137</td>\n",
       "      <td>Archaea;Aenigmarchaeota;Aenigmarchaeia;Aenigma...</td>\n",
       "    </tr>\n",
       "    <tr>\n",
       "      <th>1</th>\n",
       "      <td>ASMO01000004.23831.25277</td>\n",
       "      <td>Archaea;Aenigmarchaeota;Aenigmarchaeia;Aenigma...</td>\n",
       "    </tr>\n",
       "    <tr>\n",
       "      <th>2</th>\n",
       "      <td>ASMQ01000007.23975.25425</td>\n",
       "      <td>Archaea;Aenigmarchaeota;Aenigmarchaeia;Aenigma...</td>\n",
       "    </tr>\n",
       "    <tr>\n",
       "      <th>3</th>\n",
       "      <td>AB600437.1.1389</td>\n",
       "      <td>Archaea;Aenigmarchaeota;Aenigmarchaeia;Aenigma...</td>\n",
       "    </tr>\n",
       "    <tr>\n",
       "      <th>4</th>\n",
       "      <td>AB600445.1.1407</td>\n",
       "      <td>Archaea;Aenigmarchaeota;Aenigmarchaeia;Aenigma...</td>\n",
       "    </tr>\n",
       "  </tbody>\n",
       "</table>\n",
       "</div>"
      ],
      "text/plain": [
       "                  accession                                               path\n",
       "0  MNUF01000028.16163.17137  Archaea;Aenigmarchaeota;Aenigmarchaeia;Aenigma...\n",
       "1  ASMO01000004.23831.25277  Archaea;Aenigmarchaeota;Aenigmarchaeia;Aenigma...\n",
       "2  ASMQ01000007.23975.25425  Archaea;Aenigmarchaeota;Aenigmarchaeia;Aenigma...\n",
       "3           AB600437.1.1389  Archaea;Aenigmarchaeota;Aenigmarchaeia;Aenigma...\n",
       "4           AB600445.1.1407  Archaea;Aenigmarchaeota;Aenigmarchaeia;Aenigma..."
      ]
     },
     "execution_count": 11,
     "metadata": {},
     "output_type": "execute_result"
    }
   ],
   "source": [
    "df = pd.read_table(\"/data/silva/SILVA138.txt\")\n",
    "df.head()"
   ]
  },
  {
   "cell_type": "code",
   "execution_count": 18,
   "id": "350fc0db-defb-4995-9890-03cee06fd5bc",
   "metadata": {},
   "outputs": [
    {
     "name": "stdout",
     "output_type": "stream",
     "text": [
      "2 20\n"
     ]
    }
   ],
   "source": [
    "min = 1e6\n",
    "max = 0\n",
    "\n",
    "outfile = open(\"/tmp/SILVA138_eukarya_taxa.tsv\", \"w\")\n",
    "\n",
    "outfile.write (\"accession\" + \"\\t\" + \"path\" + \"\\t\" + \"\\t\".join(tax_levels) + \"\\n\")\n",
    "\n",
    "for index, row in df.iterrows():\n",
    "    accession = row['accession']\n",
    "    path = row['path']\n",
    "    tokens = path.split(';')\n",
    "    count = len (tokens)\n",
    "    \n",
    "    taxa = [tax_unclassified] * len(tax_levels)\n",
    "    \n",
    "    if (tokens[0] == \"Eukaryota\"):\n",
    "        \n",
    "        if (count < min):\n",
    "            min = count\n",
    "            \n",
    "        if (count > max):\n",
    "            max = count\n",
    "            \n",
    "        taxa[len(tax_levels) - 1] = tokens[count - 1]\n",
    "\n",
    "        if (count > len(tax_levels)):\n",
    "            knowns = len(tax_levels)\n",
    "        else:\n",
    "            knowns = count\n",
    "        \n",
    "        for i in range(knowns):\n",
    "            taxa[i] = tokens[i]\n",
    "            \n",
    "\n",
    "        outfile.write(accession + \"\\t\" + path + \"\\t\" + \"\\t\".join(taxa) + \"\\n\")\n",
    " \n",
    "outfile.close()\n",
    "\n",
    "print (min, max)"
   ]
  },
  {
   "cell_type": "code",
   "execution_count": 19,
   "id": "892a1f8c-9422-455f-8689-2b8b7eb018f8",
   "metadata": {},
   "outputs": [
    {
     "data": {
      "text/html": [
       "<div>\n",
       "<style scoped>\n",
       "    .dataframe tbody tr th:only-of-type {\n",
       "        vertical-align: middle;\n",
       "    }\n",
       "\n",
       "    .dataframe tbody tr th {\n",
       "        vertical-align: top;\n",
       "    }\n",
       "\n",
       "    .dataframe thead th {\n",
       "        text-align: right;\n",
       "    }\n",
       "</style>\n",
       "<table border=\"1\" class=\"dataframe\">\n",
       "  <thead>\n",
       "    <tr style=\"text-align: right;\">\n",
       "      <th></th>\n",
       "      <th>accession</th>\n",
       "      <th>path</th>\n",
       "      <th>kingdom</th>\n",
       "      <th>phylum</th>\n",
       "      <th>class</th>\n",
       "      <th>order</th>\n",
       "      <th>family</th>\n",
       "      <th>genus</th>\n",
       "      <th>species</th>\n",
       "    </tr>\n",
       "  </thead>\n",
       "  <tbody>\n",
       "    <tr>\n",
       "      <th>0</th>\n",
       "      <td>KF651077.1.1739</td>\n",
       "      <td>Eukaryota;Acavomonas peruviana</td>\n",
       "      <td>Eukaryota</td>\n",
       "      <td>Acavomonas peruviana</td>\n",
       "      <td>_unclassified_</td>\n",
       "      <td>_unclassified_</td>\n",
       "      <td>_unclassified_</td>\n",
       "      <td>_unclassified_</td>\n",
       "      <td>Acavomonas peruviana</td>\n",
       "    </tr>\n",
       "    <tr>\n",
       "      <th>1</th>\n",
       "      <td>DQ286371.1.1916</td>\n",
       "      <td>Eukaryota;Amorphea;Amoebozoa;Archamoebae;Entam...</td>\n",
       "      <td>Eukaryota</td>\n",
       "      <td>Amorphea</td>\n",
       "      <td>Amoebozoa</td>\n",
       "      <td>Archamoebae</td>\n",
       "      <td>Entamoebida</td>\n",
       "      <td>Entamoeba</td>\n",
       "      <td>Entamoeba equi</td>\n",
       "    </tr>\n",
       "    <tr>\n",
       "      <th>2</th>\n",
       "      <td>D28490.1.1918</td>\n",
       "      <td>Eukaryota;Amorphea;Amoebozoa;Archamoebae;Entam...</td>\n",
       "      <td>Eukaryota</td>\n",
       "      <td>Amorphea</td>\n",
       "      <td>Amoebozoa</td>\n",
       "      <td>Archamoebae</td>\n",
       "      <td>Entamoebida</td>\n",
       "      <td>Entamoeba</td>\n",
       "      <td>Entamoeba gingivalis</td>\n",
       "    </tr>\n",
       "    <tr>\n",
       "      <th>3</th>\n",
       "      <td>AF149909.1.1942</td>\n",
       "      <td>Eukaryota;Amorphea;Amoebozoa;Archamoebae;Entam...</td>\n",
       "      <td>Eukaryota</td>\n",
       "      <td>Amorphea</td>\n",
       "      <td>Amoebozoa</td>\n",
       "      <td>Archamoebae</td>\n",
       "      <td>Entamoebida</td>\n",
       "      <td>Entamoeba</td>\n",
       "      <td>Entamoeba insolita</td>\n",
       "    </tr>\n",
       "    <tr>\n",
       "      <th>4</th>\n",
       "      <td>KR025407.1.1400</td>\n",
       "      <td>Eukaryota;Amorphea;Amoebozoa;Archamoebae;Entam...</td>\n",
       "      <td>Eukaryota</td>\n",
       "      <td>Amorphea</td>\n",
       "      <td>Amoebozoa</td>\n",
       "      <td>Archamoebae</td>\n",
       "      <td>Entamoebida</td>\n",
       "      <td>Entamoeba</td>\n",
       "      <td>Entamoeba sp. RL9</td>\n",
       "    </tr>\n",
       "  </tbody>\n",
       "</table>\n",
       "</div>"
      ],
      "text/plain": [
       "         accession                                               path  \\\n",
       "0  KF651077.1.1739                     Eukaryota;Acavomonas peruviana   \n",
       "1  DQ286371.1.1916  Eukaryota;Amorphea;Amoebozoa;Archamoebae;Entam...   \n",
       "2    D28490.1.1918  Eukaryota;Amorphea;Amoebozoa;Archamoebae;Entam...   \n",
       "3  AF149909.1.1942  Eukaryota;Amorphea;Amoebozoa;Archamoebae;Entam...   \n",
       "4  KR025407.1.1400  Eukaryota;Amorphea;Amoebozoa;Archamoebae;Entam...   \n",
       "\n",
       "     kingdom                phylum           class           order  \\\n",
       "0  Eukaryota  Acavomonas peruviana  _unclassified_  _unclassified_   \n",
       "1  Eukaryota              Amorphea       Amoebozoa     Archamoebae   \n",
       "2  Eukaryota              Amorphea       Amoebozoa     Archamoebae   \n",
       "3  Eukaryota              Amorphea       Amoebozoa     Archamoebae   \n",
       "4  Eukaryota              Amorphea       Amoebozoa     Archamoebae   \n",
       "\n",
       "           family           genus               species  \n",
       "0  _unclassified_  _unclassified_  Acavomonas peruviana  \n",
       "1     Entamoebida       Entamoeba        Entamoeba equi  \n",
       "2     Entamoebida       Entamoeba  Entamoeba gingivalis  \n",
       "3     Entamoebida       Entamoeba    Entamoeba insolita  \n",
       "4     Entamoebida       Entamoeba     Entamoeba sp. RL9  "
      ]
     },
     "execution_count": 19,
     "metadata": {},
     "output_type": "execute_result"
    }
   ],
   "source": [
    "df2 = pd.read_table(\"/tmp/SILVA138_eukarya_taxa.tsv\")\n",
    "df2.head()"
   ]
  },
  {
   "cell_type": "code",
   "execution_count": null,
   "id": "b8ab840c-4527-4e31-8d54-dfd79817936b",
   "metadata": {},
   "outputs": [],
   "source": []
  }
 ],
 "metadata": {
  "kernelspec": {
   "display_name": "Python 3 (ipykernel)",
   "language": "python",
   "name": "python3"
  },
  "language_info": {
   "codemirror_mode": {
    "name": "ipython",
    "version": 3
   },
   "file_extension": ".py",
   "mimetype": "text/x-python",
   "name": "python",
   "nbconvert_exporter": "python",
   "pygments_lexer": "ipython3",
   "version": "3.8.10"
  }
 },
 "nbformat": 4,
 "nbformat_minor": 5
}
